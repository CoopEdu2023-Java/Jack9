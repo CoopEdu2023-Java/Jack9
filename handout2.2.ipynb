{
 "cells": [
  {
   "cell_type": "markdown",
   "metadata": {},
   "source": [
    "# *Task1*\n",
    "*Implement following classes according to the requirements:*\n",
    "- ***Teacher**: Teachers can teach students.*\n",
    "- ***Staff**: Staff can work and get paid.*\n",
    "- ***Principal**: Principal can make the school better.*"
   ]
  },
  {
   "cell_type": "code",
   "execution_count": null,
   "metadata": {},
   "outputs": [],
   "source": []
  },
  {
   "cell_type": "markdown",
   "metadata": {},
   "source": [
    "# 1. Abstract Class"
   ]
  },
  {
   "cell_type": "markdown",
   "metadata": {},
   "source": [
    "##### 1.1 Define an abstract class with a abstract method."
   ]
  },
  {
   "cell_type": "code",
   "execution_count": null,
   "metadata": {},
   "outputs": [],
   "source": [
    "abstract class A{\n",
    "    private int x;\n",
    "    public void test() {}\n",
    "    abstract public void func();\n",
    "}"
   ]
  },
  {
   "cell_type": "markdown",
   "metadata": {},
   "source": [
    "##### 1.2 Write an inherited class."
   ]
  },
  {
   "cell_type": "code",
   "execution_count": null,
   "metadata": {},
   "outputs": [],
   "source": [
    "class B extends A {\n",
    "    @Override\n",
    "    public void func() {}\n",
    "}"
   ]
  },
  {
   "cell_type": "markdown",
   "metadata": {},
   "source": [
    "##### 1.3 Design the following classes with abstract class.\n",
    "1. Frog:\n",
    "    - name, age\n",
    "    - eat bugs, drink\n",
    "2. Dog:\n",
    "    - name, age\n",
    "    - eat bones, drink\n",
    "3. Sheep:\n",
    "    - name, age\n",
    "    - eat grass, drink"
   ]
  },
  {
   "cell_type": "code",
   "execution_count": 1,
   "metadata": {},
   "outputs": [
    {
     "ename": "CompilationException",
     "evalue": "",
     "output_type": "error",
     "traceback": [
      "\u001b[1m\u001b[30m|   \u001b[1m\u001b[30m    private name\u001b[0m\u001b[1m\u001b[30m\u001b[41m\u001b[0m\u001b[1m\u001b[30m;\u001b[0m",
      "\u001b[1m\u001b[31m需要<标识符>\u001b[0m",
      "",
      "\u001b[1m\u001b[30m|   \u001b[1m\u001b[30m    private age\u001b[0m\u001b[1m\u001b[30m\u001b[41m\u001b[0m\u001b[1m\u001b[30m;\u001b[0m",
      "\u001b[1m\u001b[31m需要<标识符>\u001b[0m",
      "",
      "\u001b[1m\u001b[30m|   \u001b[1m\u001b[30m    public \u001b[0m\u001b[1m\u001b[30m\u001b[41m\u001b[0m\u001b[1m\u001b[30mAnimal(String name, int age) {\u001b[0m",
      "\u001b[1m\u001b[31m方法声明无效; 需要返回类型\u001b[0m",
      "",
      "\u001b[1m\u001b[30m|   \u001b[1m\u001b[30m    public \u001b[0m\u001b[1m\u001b[30m\u001b[41m\u001b[0m\u001b[1m\u001b[30mdrink() {\u001b[0m",
      "\u001b[1m\u001b[31m方法声明无效; 需要返回类型\u001b[0m",
      ""
     ]
    }
   ],
   "source": [
    "abstract class animal {\n",
    "    private String name;\n",
    "    private int age;\n",
    "\n",
    "    public Animal(String name, int age) {\n",
    "        this.name = name;\n",
    "        this.age = age;\n",
    "    }\n",
    "\n",
    "    abstract public void eat() {}\n",
    "\n",
    "    public drink() {\n",
    "        System.out.println(name + \" is drinking water.\");\n",
    "    };\n",
    "\n",
    "}\n",
    "\n",
    "class Frog extends animal {\n",
    "\n",
    "    public Frog(String name, int age) {\n",
    "        super(name, age);\n",
    "    }\n",
    "\n",
    "    @Override\n",
    "    public void eat() {\n",
    "        System.out.println(name + \" eats bugs.\");\n",
    "\n",
    "    }\n",
    "}\n",
    "\n",
    "class Dog extends animal {\n",
    "\n",
    "    public Dog(String name, int age) {\n",
    "        super(name, age);\n",
    "    }\n",
    "\n",
    "    @Override\n",
    "    public void eat() {\n",
    "        System.out.println(name + \" eats shit.\");\n",
    "\n",
    "    }\n",
    "}\n",
    "\n",
    "class Sheep extends animal {\n",
    "\n",
    "    public Sheep(String name, int age) {\n",
    "        super(name, age);\n",
    "    }\n",
    "\n",
    "    @Override\n",
    "    public void eat() {\n",
    "        System.out.println(name + \" eats grass.\");\n",
    "\n",
    "    }\n",
    "}"
   ]
  },
  {
   "cell_type": "markdown",
   "metadata": {},
   "source": [
    "# *Task2*\n",
    "*Rewrite task1 using inherited class of an abstract class.*"
   ]
  },
  {
   "cell_type": "code",
   "execution_count": null,
   "metadata": {},
   "outputs": [],
   "source": []
  },
  {
   "cell_type": "markdown",
   "metadata": {},
   "source": [
    "# 2. Interface"
   ]
  },
  {
   "cell_type": "markdown",
   "metadata": {},
   "source": [
    "##### 2.1 Define an interface with a abstract method."
   ]
  },
  {
   "cell_type": "code",
   "execution_count": null,
   "metadata": {},
   "outputs": [],
   "source": [
    "interface Work {\n",
    "    public abstract void test();\n",
    "}"
   ]
  },
  {
   "cell_type": "markdown",
   "metadata": {},
   "source": [
    "##### 2.2 Write an implementation class."
   ]
  },
  {
   "cell_type": "code",
   "execution_count": null,
   "metadata": {},
   "outputs": [],
   "source": [
    "class Teach implements Work {\n",
    "    @Override\n",
    "    public void test() {}\n",
    "}"
   ]
  },
  {
   "cell_type": "markdown",
   "metadata": {},
   "source": [
    "##### 2.3 Design the following classes with interface.\n",
    "1. Frog:\n",
    "    - name, age\n",
    "    - eat bugs, breaststroke\n",
    "2. Dog:\n",
    "    - name, age\n",
    "    - eat bones, dog paddle\n",
    "3. Rabbit:\n",
    "    - name, age\n",
    "    - eat carrots"
   ]
  },
  {
   "cell_type": "code",
   "execution_count": null,
   "metadata": {},
   "outputs": [],
   "source": [
    "interface Eat {\n",
    "    public abstract void test();\n",
    "}\n",
    "\n",
    "abstract class animal {\n",
    "    private String name;\n",
    "    private int age;\n",
    "\n",
    "    public Animal(String name, int age) {\n",
    "        this.name = name;\n",
    "        this.age = age;\n",
    "    }\n",
    "}\n",
    "\n",
    "class Frog extends animal implements Eat {\n",
    "    \n",
    "    public Frog(String name, int age) {\n",
    "        super(name, age);\n",
    "    }\n",
    "    \n",
    "    @Override\n",
    "    public void Eat() {\n",
    "        System.out.println(name + \" eats bugs.\");\n",
    "    }\n",
    "\n",
    "    public void swim(){\n",
    "        System.out.println(name + \" breaststroke.\");\n",
    "    }\n",
    "}\n",
    "\n",
    "class Dog extends animal implements Eat {\n",
    "    \n",
    "    public Frog(String name, int age) {\n",
    "        super(name, age);\n",
    "    }\n",
    "    \n",
    "    @Override\n",
    "    public void Eat() {\n",
    "        System.out.println(name + \" eats shit.\");\n",
    "    }\n",
    "\n",
    "    public void swim(){\n",
    "        System.out.println(name + \" dog paddle.\");\n",
    "    }\n",
    "}\n",
    "\n",
    "class Dog extends animal implements Eat {\n",
    "    \n",
    "    public Frog(String name, int age) {\n",
    "        super(name, age);\n",
    "    }\n",
    "    \n",
    "    @Override\n",
    "    public void Eat() {\n",
    "        System.out.println(name + \" eats carrots.\");\n",
    "    }\n",
    "\n",
    "}\n"
   ]
  },
  {
   "cell_type": "markdown",
   "metadata": {},
   "source": [
    "# *Task3*\n",
    "*Rewrite task2 using implementation class of the interface.*"
   ]
  },
  {
   "cell_type": "code",
   "execution_count": null,
   "metadata": {},
   "outputs": [],
   "source": []
  },
  {
   "cell_type": "markdown",
   "metadata": {},
   "source": [
    "# Inheritance, Abstract Class and Interface."
   ]
  },
  {
   "cell_type": "markdown",
   "metadata": {},
   "source": [
    "Implement classes as requirements using inheritance, abstract class and interface.\n",
    "- **Table tennis player**:\n",
    "    - name, age\n",
    "    - play table tennis, speak english\n",
    "- **Basketball player**:\n",
    "    - name, age\n",
    "    - play basketball\n",
    "- **Table tennis coach**:\n",
    "    - name, age\n",
    "    - coach table tennis, speak english\n",
    "- **Basketball coach**:\n",
    "    - name, age\n",
    "    - coach basketball"
   ]
  },
  {
   "cell_type": "code",
   "execution_count": 4,
   "metadata": {},
   "outputs": [
    {
     "ename": "CompilationException",
     "evalue": "",
     "output_type": "error",
     "traceback": [
      "\u001b[1m\u001b[31m无法将类 Player中的构造器 Player应用到给定类型;\u001b[0m",
      "\u001b[1m\u001b[31m  需要: java.lang.String,int\u001b[0m",
      "\u001b[1m\u001b[31m  找到:    没有参数\u001b[0m",
      "\u001b[1m\u001b[31m  原因: 实际参数列表和形式参数列表长度不同\u001b[0m",
      "",
      "\u001b[1m\u001b[30m|   \u001b[1m\u001b[30m        System.out.println(\u001b[0m\u001b[1m\u001b[30m\u001b[41mname\u001b[0m\u001b[1m\u001b[30m + \" play table tennis.\");\u001b[0m",
      "\u001b[1m\u001b[31mname 在 Player 中是 private 访问控制\u001b[0m",
      ""
     ]
    }
   ],
   "source": [
    "class Player {\n",
    "    private String name;\n",
    "    private int age;\n",
    "    \n",
    "    public Player(String name, int age) {\n",
    "        this.name = name;\n",
    "        this.age = age;\n",
    "    }\n",
    "\n",
    "    public void speak() {\n",
    "        System.out.println(name + \" speak english.\");\n",
    "    }\n",
    "\n",
    "}\n",
    "\n",
    "class Coach {\n",
    "    private String name;\n",
    "    private int age;\n",
    "    \n",
    "    public Coach(String name, int age) {\n",
    "        this.name = name;\n",
    "        this.age = age;\n",
    "    }\n",
    "\n",
    "    public void speak() {\n",
    "        System.out.println(name + \" speak english.\");\n",
    "    }\n",
    "\n",
    "}\n",
    "\n",
    "interface Play {\n",
    "    public abstract void Play();\n",
    "}\n",
    "\n",
    "interface Coach {\n",
    "    public abstract void test();\n",
    "}\n",
    "\n",
    "class Tabletennisplayer extends Player implements Play {\n",
    "    @Override\n",
    "    public void Play() {\n",
    "        System.out.println(name + \" play table tennis.\");\n",
    "    }\n",
    "}\n",
    "\n",
    "class Basketballplayer extends Player implements Play {\n",
    "    @Override\n",
    "    public void Play() {\n",
    "        System.out.println(name + \" play basketball.\");\n",
    "    }\n",
    "}\n",
    "\n",
    "class Tabletenniscoach extends Coach implements Coach {\n",
    "    @Override\n",
    "    public void Play() {\n",
    "        System.out.println(name + \" coach table tennis.\");\n",
    "    }\n",
    "}\n",
    "\n",
    "class Basketballcoach extends Coach implements Coach {\n",
    "    @Override\n",
    "    public void Play() {\n",
    "        System.out.println(name + \"  coach basketball.\");\n",
    "    }\n",
    "}"
   ]
  }
 ],
 "metadata": {
  "kernelspec": {
   "display_name": "Java",
   "language": "java",
   "name": "java"
  },
  "language_info": {
   "codemirror_mode": "java",
   "file_extension": ".jshell",
   "mimetype": "text/x-java-source",
   "name": "java",
   "pygments_lexer": "java",
   "version": "21.0.1+12-LTS-29"
  }
 },
 "nbformat": 4,
 "nbformat_minor": 2
}
