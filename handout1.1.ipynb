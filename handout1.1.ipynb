{
 "cells": [
  {
   "cell_type": "markdown",
   "metadata": {},
   "source": [
    "# 1. Hello World!"
   ]
  },
  {
   "cell_type": "code",
   "execution_count": 1,
   "metadata": {},
   "outputs": [
    {
     "name": "stdout",
     "output_type": "stream",
     "text": [
      "hello world!\n"
     ]
    }
   ],
   "source": [
    "System.out.println(\"hello world!\");"
   ]
  },
  {
   "cell_type": "markdown",
   "metadata": {},
   "source": [
    "# 2. Variable"
   ]
  },
  {
   "cell_type": "markdown",
   "metadata": {},
   "source": [
    "##### 2.1 Define different basic types of variables."
   ]
  },
  {
   "cell_type": "code",
   "execution_count": 13,
   "metadata": {},
   "outputs": [
    {
     "name": "stdout",
     "output_type": "stream",
     "text": [
      "10\n",
      "aa\n"
     ]
    }
   ],
   "source": [
    "int a = 10;\n",
    "short b = 20;\n",
    "long c = 30L;\n",
    "char d = 'a';\n",
    "boolean e = true;\n",
    "String f = \"aa\";\n",
    "System.out.println(a);\n",
    "System.out.println(f)\n"
   ]
  },
  {
   "cell_type": "markdown",
   "metadata": {},
   "source": [
    "##### 2.2 Use different operators between variables."
   ]
  },
  {
   "cell_type": "code",
   "execution_count": 14,
   "metadata": {},
   "outputs": [
    {
     "name": "stdout",
     "output_type": "stream",
     "text": [
      "5\n"
     ]
    }
   ],
   "source": [
    "int a = 2;\n",
    "int b = 3;\n",
    "\n",
    "System.out.println(a+b)"
   ]
  },
  {
   "cell_type": "markdown",
   "metadata": {},
   "source": [
    "##### 2.3 Define a list and use CRUD methods."
   ]
  },
  {
   "cell_type": "code",
   "execution_count": 25,
   "metadata": {},
   "outputs": [
    {
     "name": "stdout",
     "output_type": "stream",
     "text": [
      "[x, b]x\n"
     ]
    }
   ],
   "source": [
    "ArrayList<String> list = new ArrayList<>();\n",
    "list.add(\"a\");\n",
    "list.add(\"b\");\n",
    "list.add(\"c\");\n",
    "list.remove(\"c\");\n",
    "list.set(0, \"x\");\n",
    "String x = list.get(0);\n",
    "System.out.println(list + x);"
   ]
  },
  {
   "cell_type": "markdown",
   "metadata": {},
   "source": [
    "##### 2.4 Define a map and use CRUD methods."
   ]
  },
  {
   "cell_type": "code",
   "execution_count": 52,
   "metadata": {},
   "outputs": [
    {
     "name": "stdout",
     "output_type": "stream",
     "text": [
      "{a=1, b=2, c=3, d=4}\n",
      "1\n",
      "{a=1, b=5, c=3, d=4}\n",
      "{a=1, b=5, d=4}\n"
     ]
    }
   ],
   "source": [
    "Map<String, Integer> map = new HashMap<>();\n",
    "\n",
    "map.put(\"a\", 1);\n",
    "map.putAll(Map.of(\"b\", 2, \"c\", 3, \"d\", 4));\n",
    "System.out.println(map);\n",
    "\n",
    "System.out.println(map.get(\"a\"));\n",
    "\n",
    "map.put(\"b\", 5);\n",
    "System.out.println(map);\n",
    "\n",
    "map.remove(\"c\");\n",
    "System.out.println(map);"
   ]
  },
  {
   "cell_type": "markdown",
   "metadata": {},
   "source": [
    "# 3. IO"
   ]
  },
  {
   "cell_type": "code",
   "execution_count": 53,
   "metadata": {},
   "outputs": [
    {
     "name": "stdin",
     "output_type": "stream",
     "text": [
      " s\n"
     ]
    },
    {
     "name": "stdout",
     "output_type": "stream",
     "text": [
      "s\n"
     ]
    }
   ],
   "source": [
    "Scanner scanner = new Scanner(System.in);\n",
    "String a = scanner.nextLine();\n",
    "System.out.println(a);\n",
    "scanner.close();"
   ]
  },
  {
   "cell_type": "markdown",
   "metadata": {},
   "source": [
    "# 4. Program Structure"
   ]
  },
  {
   "cell_type": "markdown",
   "metadata": {},
   "source": [
    "##### 4.1 Write a conditional statement."
   ]
  },
  {
   "cell_type": "code",
   "execution_count": 55,
   "metadata": {},
   "outputs": [
    {
     "name": "stdout",
     "output_type": "stream",
     "text": [
      "1\n"
     ]
    }
   ],
   "source": [
    "int a = 1;\n",
    "if (a==1) \n",
    "    System.out.println(a);"
   ]
  },
  {
   "cell_type": "markdown",
   "metadata": {},
   "source": [
    "##### 4.2 Write a while loop."
   ]
  },
  {
   "cell_type": "code",
   "execution_count": 56,
   "metadata": {},
   "outputs": [
    {
     "name": "stdout",
     "output_type": "stream",
     "text": [
      "0\n"
     ]
    }
   ],
   "source": [
    "int a = 1;\n",
    "while (a>0) {\n",
    "    a -= 1;\n",
    "    System.out.println(a);\n",
    "}"
   ]
  },
  {
   "cell_type": "markdown",
   "metadata": {},
   "source": [
    "##### 4.3 Write a for loop."
   ]
  },
  {
   "cell_type": "code",
   "execution_count": 57,
   "metadata": {},
   "outputs": [
    {
     "name": "stdout",
     "output_type": "stream",
     "text": [
      "0\n",
      "1\n",
      "2\n",
      "3\n",
      "4\n",
      "5\n",
      "6\n",
      "7\n",
      "8\n",
      "9\n"
     ]
    }
   ],
   "source": [
    "for (int i = 0; i < 10; i++) {\n",
    "    System.out.println(i);\n",
    "}"
   ]
  },
  {
   "cell_type": "markdown",
   "metadata": {},
   "source": [
    "##### 4.4 Define a function."
   ]
  },
  {
   "cell_type": "code",
   "execution_count": 59,
   "metadata": {},
   "outputs": [
    {
     "name": "stdout",
     "output_type": "stream",
     "text": [
      "3\n"
     ]
    }
   ],
   "source": [
    "int f(int a, int b){\n",
    "    return a+b;\n",
    "}\n",
    "System.out.println(f(1,2));"
   ]
  },
  {
   "cell_type": "markdown",
   "metadata": {},
   "source": [
    "# 5. Exception Handling"
   ]
  },
  {
   "cell_type": "markdown",
   "metadata": {},
   "source": [
    "##### 5.1 Catch an exception."
   ]
  },
  {
   "cell_type": "code",
   "execution_count": 60,
   "metadata": {},
   "outputs": [
    {
     "name": "stdout",
     "output_type": "stream",
     "text": [
      "java.lang.ArithmeticException: / by zero\n"
     ]
    }
   ],
   "source": [
    "try {\n",
    "    System.out.println(1 / 0);\n",
    "} catch(Exception e) {\n",
    "    System.out.println(e);\n",
    "}"
   ]
  },
  {
   "cell_type": "markdown",
   "metadata": {},
   "source": [
    "##### 5.2 Throw an exception."
   ]
  },
  {
   "cell_type": "code",
   "execution_count": 62,
   "metadata": {},
   "outputs": [
    {
     "ename": "EvalException",
     "evalue": "error",
     "output_type": "error",
     "traceback": [
      "\u001b[1m\u001b[31m---------------------------------------------------------------------------\u001b[0m",
      "\u001b[1m\u001b[31mjava.lang.RuntimeException: error\u001b[0m",
      "\u001b[1m\u001b[31m\tat .(#164:1)\u001b[0m"
     ]
    }
   ],
   "source": [
    "throw new RuntimeException(\"error\");"
   ]
  },
  {
   "cell_type": "markdown",
   "metadata": {},
   "source": [
    "# 6. File IO"
   ]
  },
  {
   "cell_type": "markdown",
   "metadata": {},
   "source": [
    "##### 6.1 Read a file."
   ]
  },
  {
   "cell_type": "code",
   "execution_count": 44,
   "metadata": {},
   "outputs": [
    {
     "name": "stdout",
     "output_type": "stream",
     "text": [
      "hello world!\n"
     ]
    }
   ],
   "source": [
    "import java.nio.file.Files;\n",
    "import java.nio.file.Paths;\n",
    "\n",
    "List<String> lines = Files.readAllLines(Paths.get(\"test\"));\n",
    "lines.forEach(System.out::println);"
   ]
  },
  {
   "cell_type": "markdown",
   "metadata": {},
   "source": [
    "##### 6.2 Write to a file."
   ]
  },
  {
   "cell_type": "code",
   "execution_count": 42,
   "metadata": {},
   "outputs": [],
   "source": [
    "import java.io.BufferedWriter;\n",
    "import java.io.FileWriter;\n",
    "import java.io.IOException;\n",
    "\n",
    "String filePath = \"./test\";\n",
    "String content = \"hello world!\";\n",
    "\n",
    "try (BufferedWriter bw = new BufferedWriter(new FileWriter(filePath))){\n",
    "    bw.write(content);\n",
    "} catch (IOException e) {\n",
    "    e.printStackTrace();\n",
    "}"
   ]
  },
  {
   "cell_type": "code",
   "execution_count": null,
   "metadata": {},
   "outputs": [],
   "source": []
  }
 ],
 "metadata": {
  "kernelspec": {
   "display_name": "Java",
   "language": "java",
   "name": "java"
  },
  "language_info": {
   "codemirror_mode": "java",
   "file_extension": ".jshell",
   "mimetype": "text/x-java-source",
   "name": "Java",
   "pygments_lexer": "java",
   "version": "17.0.12+8-LTS-286"
  }
 },
 "nbformat": 4,
 "nbformat_minor": 4
}
